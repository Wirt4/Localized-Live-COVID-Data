{
 "cells": [
  {
   "cell_type": "markdown",
   "metadata": {},
   "source": [
    "# COVID 19 Reported Cases and Deaths\n",
    "## A Local Perspective\n",
    "All data automatically imported from John Hopkins University at https://github.com/CSSEGISandData/COVID-19"
   ]
  },
  {
   "cell_type": "code",
   "execution_count": 1,
   "metadata": {},
   "outputs": [],
   "source": [
    "from __future__ import print_function\n",
    "from ipywidgets import interact, interactive, fixed, interact_manual, Dropdown\n",
    "import ipywidgets as wd\n",
    "import pandas as pd\n",
    "import numpy as np\n",
    "import plotly.graph_objects as go"
   ]
  },
  {
   "cell_type": "code",
   "execution_count": 2,
   "metadata": {},
   "outputs": [],
   "source": [
    "#data pulled from John Hopkins University at https://github.com/CSSEGISandData/COVID-19\n",
    "us_confirmed_df = pd.read_csv(\"https://raw.githubusercontent.com/CSSEGISandData/COVID-19/master/csse_covid_19_data/csse_covid_19_time_series/time_series_covid19_confirmed_US.csv\")\n",
    "us_death_df = pd.read_csv(\"https://raw.githubusercontent.com/CSSEGISandData/COVID-19/master/csse_covid_19_data/csse_covid_19_time_series/time_series_covid19_deaths_US.csv\")"
   ]
  },
  {
   "cell_type": "code",
   "execution_count": 3,
   "metadata": {},
   "outputs": [],
   "source": [
    "#cleaning data and preparing a single sheet for CA\n",
    "us_confirmed_df.columns = map(str.lower, us_confirmed_df.columns)\n",
    "us_death_df.columns = map(str.lower, us_death_df.columns)\n",
    "today = us_death_df.columns[-1]\n",
    "us_confirmed_df = us_confirmed_df.rename(columns = { 'province_state': 'state', 'admin2': 'county'})\n",
    "us_death_df = us_death_df.rename(columns = {'province_state':'state', 'admin2':'county'})"
   ]
  },
  {
   "cell_type": "code",
   "execution_count": 4,
   "metadata": {
    "scrolled": false
   },
   "outputs": [],
   "source": [
    "geo = dict()\n",
    "remove_state = {'Puerto Rico','Grand Princess', 'Diamond Princess','American Samoa','Guam','Virgin Islands', 'Northern Mariana Islands'}\n",
    "outof = 'Out of'\n",
    "indices = list()\n",
    "for i in range(us_death_df.shape[0]):\n",
    "    slc = us_death_df.iloc[i:i+1]\n",
    "    state = str.strip(slc['state'].to_string(index=False))\n",
    "    county = str.strip(slc['county'].to_string(index=False))\n",
    "    if state not in remove_state:\n",
    "        if state not in geo.keys():\n",
    "            geo[state] = list()\n",
    "        if not county.startswith(outof):# and county not in remove_county:\n",
    "            geo[state].append(county)\n",
    "    if county.startswith(outof):# or county in remove_county:\n",
    "        indices.append(i)\n",
    "us_death_df=us_death_df.drop(us_death_df.index[indices])\n",
    "us_confirmed_df =us_confirmed_df.drop(us_confirmed_df.index[indices])"
   ]
  },
  {
   "cell_type": "markdown",
   "metadata": {},
   "source": [
    "## See What's Been Happening with your County"
   ]
  },
  {
   "cell_type": "code",
   "execution_count": 10,
   "metadata": {
    "scrolled": false
   },
   "outputs": [
    {
     "data": {
      "application/vnd.jupyter.widget-view+json": {
       "model_id": "3c3ff8d5b2204d6ca44dc2ef765fc8d1",
       "version_major": 2,
       "version_minor": 0
      },
      "text/plain": [
       "interactive(children=(Dropdown(description='state', options=('Alabama', 'Alaska', 'Arizona', 'Arkansas', 'Cali…"
      ]
     },
     "metadata": {},
     "output_type": "display_data"
    }
   ],
   "source": [
    "#@interact(state=geo.keys(), county='Mobile')\n",
    "stateW = Dropdown(options = geo.keys())\n",
    "countyW = Dropdown()\n",
    "\n",
    "def update_countyW_options(*args): # *args represent zero (case here) or more arguments.\n",
    "    countyW.options = geo[stateW.value]\n",
    "countyW.observe(update_countyW_options) # Here is the trick, i.e. update cityW.options based on countryW.value.\n",
    "\n",
    "@interact(state = stateW, county = countyW)\n",
    "def plot_cases_for_county(state, county):\n",
    "    labels =['confirmed', 'dead']\n",
    "    colors = ['blue', 'red']\n",
    "    mode_size = [6,8] \n",
    "    line_size = [4,5]\n",
    "    \n",
    "    state_conf_df = us_confirmed_df[us_confirmed_df['state']==state]\n",
    "    state_death_df = us_death_df[us_death_df['state']==state]\n",
    "    start_ndx = 100\n",
    "    \n",
    "    df_list = [state_conf_df, state_death_df]\n",
    "    \n",
    "    fig = go.Figure();\n",
    "    fig2 = go.Figure();\n",
    "    \n",
    "    fig_list = [fig, fig2]\n",
    "    #TODO: see if can do a graph with a transpose instead of an elaborate enumeration\n",
    "    for i, df in enumerate(df_list):\n",
    "        x_data = np.array(list(df.iloc[:, start_ndx:].columns))\n",
    "        y_data = np.sum(np.asarray(df[df['county'] == county].iloc[:,start_ndx:]),axis = 0)\n",
    "        fig_list[i].add_trace(go.Scatter(x = x_data, y = y_data, mode='lines+markers',\n",
    "                name=labels[i],\n",
    "                line = dict(color=colors[i], width=line_size[i]),\n",
    "                connectgaps=True,\n",
    "                text = \"Total \" + str(labels[i]) +\": \"+ str(y_data[-1])\n",
    "                ));\n",
    "    case_type = [\"Confirmed Cases\", \"Deaths\"]\n",
    "    for i in range(len(fig_list)):    \n",
    "        fig_list[i].update_layout(\n",
    "            title= case_type[i] + \" in \" + county + \" County, \" + state,\n",
    "            xaxis_title='Date',\n",
    "            yaxis_title=\"No. of \"+ case_type[i],\n",
    "            margin=dict(l=20, r=20, t=40, b=20),\n",
    "            paper_bgcolor=\"lightgrey\",\n",
    "            width = 600,\n",
    "            );\n",
    "        fig_list[i].update_yaxes(type=\"linear\")\n",
    "        fig_list[i].show()"
   ]
  },
  {
   "cell_type": "markdown",
   "metadata": {},
   "source": [
    "# See the most affected counties in your state"
   ]
  },
  {
   "cell_type": "code",
   "execution_count": 9,
   "metadata": {},
   "outputs": [
    {
     "data": {
      "application/vnd.jupyter.widget-view+json": {
       "model_id": "e9c3476c4b1048b7bfa263eaae3becb0",
       "version_major": 2,
       "version_minor": 0
      },
      "text/plain": [
       "interactive(children=(Dropdown(description='state', options=('Alabama', 'Alaska', 'Arizona', 'Arkansas', 'Cali…"
      ]
     },
     "metadata": {},
     "output_type": "display_data"
    }
   ],
   "source": [
    "@interact\n",
    "def top_ten(state=geo.keys(), number='10'):\n",
    "    #now need to sort this somehow\n",
    "    state_conf = us_confirmed_df[us_confirmed_df['state']==state]\n",
    "    state_dead = us_death_df[us_death_df['state']==state]\n",
    "    state_tot = pd.merge(state_dead.rename(columns={today:'dead'}), state_conf.rename(columns={today:'confirmed'}), on ='county')\n",
    "    state_tot = state_tot[['county', 'confirmed', 'dead']]\n",
    "    #might call graphing functions from here too\n",
    "    #TODO: want to drop \"Out of (statename)\" counties and 'Unassigned'\n",
    "    return state_tot.sort_values(by = ['confirmed'], ascending = False).head(int(number))"
   ]
  },
  {
   "cell_type": "code",
   "execution_count": null,
   "metadata": {},
   "outputs": [],
   "source": []
  }
 ],
 "metadata": {
  "kernelspec": {
   "display_name": "Python 3",
   "language": "python",
   "name": "python3"
  },
  "language_info": {
   "codemirror_mode": {
    "name": "ipython",
    "version": 3
   },
   "file_extension": ".py",
   "mimetype": "text/x-python",
   "name": "python",
   "nbconvert_exporter": "python",
   "pygments_lexer": "ipython3",
   "version": "3.8.3"
  }
 },
 "nbformat": 4,
 "nbformat_minor": 4
}
