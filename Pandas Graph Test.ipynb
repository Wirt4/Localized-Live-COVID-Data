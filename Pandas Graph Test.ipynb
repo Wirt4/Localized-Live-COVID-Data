{
 "cells": [
  {
   "cell_type": "markdown",
   "metadata": {},
   "source": [
    "# Localized Covid Data for Santa Barbara, CA\n",
    "All data updated live from John Hopkins University at https://github.com/CSSEGISandData/COVID-19"
   ]
  },
  {
   "cell_type": "code",
   "execution_count": 1,
   "metadata": {},
   "outputs": [],
   "source": [
    "import pandas as pd\n",
    "import matplotlib.pyplot as plt\n",
    "import numpy as np\n",
    "plt.close('all')"
   ]
  },
  {
   "cell_type": "code",
   "execution_count": 2,
   "metadata": {},
   "outputs": [],
   "source": [
    "STATE = 'California'\n",
    "COUNTY = 'Santa Barbara'"
   ]
  },
  {
   "cell_type": "code",
   "execution_count": 3,
   "metadata": {},
   "outputs": [],
   "source": [
    "#data pulled from John Hopkins University at https://github.com/CSSEGISandData/COVID-19\n",
    "confirmed_df = pd.read_csv(\"https://raw.githubusercontent.com/CSSEGISandData/COVID-19/master/csse_covid_19_data/csse_covid_19_time_series/time_series_covid19_confirmed_US.csv\")\n",
    "dead_df = pd.read_csv(\"https://raw.githubusercontent.com/CSSEGISandData/COVID-19/master/csse_covid_19_data/csse_covid_19_time_series/time_series_covid19_deaths_US.csv\")"
   ]
  },
  {
   "cell_type": "code",
   "execution_count": 4,
   "metadata": {},
   "outputs": [],
   "source": [
    "confirmed_df.columns = map(str.lower, confirmed_df.columns)\n",
    "dead_df.columns = map(str.lower, dead_df.columns)\n",
    "confirmed_df = confirmed_df.rename(columns = { 'province_state': 'state', 'admin2': 'county'})\n",
    "dead_df = dead_df.rename(columns = {'province_state':'state', 'admin2':'county'})\n",
    "today = dead_df.columns[-1]"
   ]
  },
  {
   "cell_type": "code",
   "execution_count": 5,
   "metadata": {},
   "outputs": [],
   "source": [
    "def get_state(df, state):\n",
    "    return df[df['state'] ==state]"
   ]
  },
  {
   "cell_type": "code",
   "execution_count": 6,
   "metadata": {},
   "outputs": [],
   "source": [
    "def get_county(df, state, county):\n",
    "    start_ndx = 100\n",
    "    df = get_state(df, state)\n",
    "    df = df[df['county'] == county]\n",
    "    df = df.iloc[:,start_ndx:]\n",
    "    return df"
   ]
  },
  {
   "cell_type": "code",
   "execution_count": 10,
   "metadata": {
    "scrolled": false
   },
   "outputs": [
    {
     "data": {
      "text/plain": [
       "array([<matplotlib.axes._subplots.AxesSubplot object at 0x7f8c603d8670>,\n",
       "       <matplotlib.axes._subplots.AxesSubplot object at 0x7f8c60375490>],\n",
       "      dtype=object)"
      ]
     },
     "execution_count": 10,
     "metadata": {},
     "output_type": "execute_result"
    },
    {
     "data": {
      "image/png": "[encoded data removed]",
      "text/plain": [
       "<Figure size 1440x720 with 2 Axes>"
      ]
     },
     "metadata": {
      "needs_background": "light"
     },
     "output_type": "display_data"
    }
   ],
   "source": [
    "ca_dead_df = get_county(dead_df, STATE, COUNTY).T\n",
    "ca_conf_df = get_county(confirmed_df, STATE, COUNTY).T\n",
    "#need to rename the columns\n",
    "ca_conf_df = ca_conf_df.rename(columns={ca_conf_df.columns[0]: 'confirmed cases'})\n",
    "ca_dead_df = ca_dead_df.rename(columns={ca_dead_df.columns[0]: 'dead'})\n",
    "combined_df = pd.concat([ca_conf_df, ca_dead_df], axis=1, join = 'inner')\n",
    "combined_df.plot(subplots=True, figsize=(20,10))"
   ]
  },
  {
   "cell_type": "markdown",
   "metadata": {},
   "source": [
    "# Most Affected Counties in California"
   ]
  },
  {
   "cell_type": "code",
   "execution_count": 12,
   "metadata": {
    "scrolled": true
   },
   "outputs": [
    {
     "data": {
      "text/html": [
       "<div>\n",
       "<style scoped>\n",
       "    .dataframe tbody tr th:only-of-type {\n",
       "        vertical-align: middle;\n",
       "    }\n",
       "\n",
       "    .dataframe tbody tr th {\n",
       "        vertical-align: top;\n",
       "    }\n",
       "\n",
       "    .dataframe thead th {\n",
       "        text-align: right;\n",
       "    }\n",
       "</style>\n",
       "<table border=\"1\" class=\"dataframe\">\n",
       "  <thead>\n",
       "    <tr style=\"text-align: right;\">\n",
       "      <th></th>\n",
       "      <th>county</th>\n",
       "      <th>confirmed</th>\n",
       "      <th>dead</th>\n",
       "    </tr>\n",
       "  </thead>\n",
       "  <tbody>\n",
       "    <tr>\n",
       "      <th>18</th>\n",
       "      <td>Los Angeles</td>\n",
       "      <td>201200</td>\n",
       "      <td>4869</td>\n",
       "    </tr>\n",
       "    <tr>\n",
       "      <th>32</th>\n",
       "      <td>Riverside</td>\n",
       "      <td>39741</td>\n",
       "      <td>770</td>\n",
       "    </tr>\n",
       "    <tr>\n",
       "      <th>29</th>\n",
       "      <td>Orange</td>\n",
       "      <td>38711</td>\n",
       "      <td>697</td>\n",
       "    </tr>\n",
       "    <tr>\n",
       "      <th>35</th>\n",
       "      <td>San Bernardino</td>\n",
       "      <td>34635</td>\n",
       "      <td>490</td>\n",
       "    </tr>\n",
       "    <tr>\n",
       "      <th>36</th>\n",
       "      <td>San Diego</td>\n",
       "      <td>31127</td>\n",
       "      <td>583</td>\n",
       "    </tr>\n",
       "    <tr>\n",
       "      <th>14</th>\n",
       "      <td>Kern</td>\n",
       "      <td>21724</td>\n",
       "      <td>152</td>\n",
       "    </tr>\n",
       "    <tr>\n",
       "      <th>9</th>\n",
       "      <td>Fresno</td>\n",
       "      <td>16625</td>\n",
       "      <td>157</td>\n",
       "    </tr>\n",
       "    <tr>\n",
       "      <th>0</th>\n",
       "      <td>Alameda</td>\n",
       "      <td>12884</td>\n",
       "      <td>206</td>\n",
       "    </tr>\n",
       "    <tr>\n",
       "      <th>38</th>\n",
       "      <td>San Joaquin</td>\n",
       "      <td>12119</td>\n",
       "      <td>192</td>\n",
       "    </tr>\n",
       "    <tr>\n",
       "      <th>42</th>\n",
       "      <td>Santa Clara</td>\n",
       "      <td>11336</td>\n",
       "      <td>196</td>\n",
       "    </tr>\n",
       "  </tbody>\n",
       "</table>\n",
       "</div>"
      ],
      "text/plain": [
       "            county  confirmed  dead\n",
       "18     Los Angeles     201200  4869\n",
       "32       Riverside      39741   770\n",
       "29          Orange      38711   697\n",
       "35  San Bernardino      34635   490\n",
       "36       San Diego      31127   583\n",
       "14            Kern      21724   152\n",
       "9           Fresno      16625   157\n",
       "0          Alameda      12884   206\n",
       "38     San Joaquin      12119   192\n",
       "42     Santa Clara      11336   196"
      ]
     },
     "execution_count": 12,
     "metadata": {},
     "output_type": "execute_result"
    }
   ],
   "source": [
    "state_conf = get_state(confirmed_df, STATE)\n",
    "state_dead = get_state(dead_df, STATE)\n",
    "state_tot = pd.merge(state_dead.rename(columns={today:'dead'}), state_conf.rename(columns={today:'confirmed'}), on ='county')\n",
    "state_tot = state_tot[['county', 'confirmed', 'dead']]\n",
    "state_tot.sort_values(by = ['confirmed'], ascending = False).head(10)"
   ]
  },
  {
   "cell_type": "code",
   "execution_count": null,
   "metadata": {},
   "outputs": [],
   "source": []
  }
 ],
 "metadata": {
  "kernelspec": {
   "display_name": "Python 3",
   "language": "python",
   "name": "python3"
  },
  "language_info": {
   "codemirror_mode": {
    "name": "ipython",
    "version": 3
   },
   "file_extension": ".py",
   "mimetype": "text/x-python",
   "name": "python",
   "nbconvert_exporter": "python",
   "pygments_lexer": "ipython3",
   "version": "3.8.3"
  }
 },
 "nbformat": 4,
 "nbformat_minor": 4
}
